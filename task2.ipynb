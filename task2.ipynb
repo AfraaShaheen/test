{
 "cells": [
  {
   "cell_type": "code",
   "execution_count": 25,
   "metadata": {},
   "outputs": [],
   "source": [
    "import math\n",
    "def A(x,y) :\n",
    "    \"\"\"\n",
    "    A is a function that have twp arguments \n",
    "    x,y are lists of numbers \n",
    "    we used two loops of for to pass all the lists elements\n",
    "    \"\"\"\n",
    "    n=int(input('enter number'))\n",
    "    for yy in y :\n",
    "            for xx in x :\n",
    "                sum = ( (yy - xx)**2)\n",
    "                f=sum/n\n",
    "                print(f)\n",
    "                print(sum)\n",
    "        "
   ]
  },
  {
   "cell_type": "code",
   "execution_count": null,
   "metadata": {},
   "outputs": [],
   "source": [
    " A([2,3,3,5,6,5,3,2],[1,2,3,4,5,6,7,8])"
   ]
  },
  {
   "cell_type": "code",
   "execution_count": null,
   "metadata": {},
   "outputs": [],
   "source": []
  }
 ],
 "metadata": {
  "kernelspec": {
   "display_name": "Python 3",
   "language": "python",
   "name": "python3"
  },
  "language_info": {
   "codemirror_mode": {
    "name": "ipython",
    "version": 3
   },
   "file_extension": ".py",
   "mimetype": "text/x-python",
   "name": "python",
   "nbconvert_exporter": "python",
   "pygments_lexer": "ipython3",
   "version": "3.7.1"
  }
 },
 "nbformat": 4,
 "nbformat_minor": 2
}
